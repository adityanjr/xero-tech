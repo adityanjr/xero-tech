{
 "cells": [
  {
   "cell_type": "code",
   "execution_count": 9,
   "metadata": {},
   "outputs": [],
   "source": [
    "##Import directories\n",
    "\n",
    "import cv2\n",
    "import time\n",
    "import os"
   ]
  },
  {
   "cell_type": "markdown",
   "metadata": {},
   "source": [
    "\"\"\"Note\n",
    "\n",
    "Create a Directory Data Annotation\n",
    "\n",
    "Make Folder Like Week 1 - Daytime/Nightime, Week 2 - Daytime/Nightime, Week 3 - Daytime/Nightime, Week 4 - Daytime/Nightime....\n",
    "\n",
    "Working Directory : Data Annotation\\Week - Daytime/Nightime\"\"\""
   ]
  },
  {
   "cell_type": "markdown",
   "metadata": {},
   "source": [
    "### Working Directory"
   ]
  },
  {
   "cell_type": "code",
   "execution_count": 11,
   "metadata": {},
   "outputs": [
    {
     "name": "stdout",
     "output_type": "stream",
     "text": [
      "C:\\Users\\Lenovo Pc\\Desktop\\Data Annotation\\Week 1\\Nighttime\\FilteredData\n"
     ]
    }
   ],
   "source": [
    "working_directory = r\"C:\\Users\\saman\\Desktop\\Xero Tech\\Data Annotation\\Week 1\\Nighttime\" ##Enter here your working week - Nighttime/Daytime directory\n",
    "\n",
    "target_directory = os.path.join(working_directory,\"FilteredData\") ## Don't change this ( Used to create a New Folder)\n",
    "print(target_directory)\n",
    "os.makedirs(target_directory,exist_ok = True)"
   ]
  },
  {
   "cell_type": "markdown",
   "metadata": {},
   "source": [
    "### Setting the directories"
   ]
  },
  {
   "cell_type": "code",
   "execution_count": 12,
   "metadata": {},
   "outputs": [],
   "source": [
    "##Don't Change this - Also, don't change name of the Files - Make sure all videos are in folder Video\n",
    "\n",
    "video_files = [os.path.join(working_directory,\"videos\",x) for x in os.listdir(os.path.join(working_directory,\"videos\"))]\n",
    "video_containing_folder = os.path.join(working_directory,\"videos\")\n",
    "data_info = os.listdir(video_containing_folder)"
   ]
  },
  {
   "cell_type": "markdown",
   "metadata": {},
   "source": [
    "### Frame Extraction Function"
   ]
  },
  {
   "cell_type": "code",
   "execution_count": 13,
   "metadata": {},
   "outputs": [],
   "source": [
    "##Don't Change this\n",
    "\n",
    "def video_extraction(video_add,video_name,target_folder,fps_rate= 1,second_s = 3):\n",
    "    Video = cv2.VideoCapture(video_add)\n",
    "    print(\"Accessing Video : \", video_add)\n",
    "    print(\"Video dimension : ({},{},3)\".format(Video.get(3),Video.get(4)))\n",
    "    frame_rate = int(Video.get(5))\n",
    "    print(\"Frame Rate : {}\".format(frame_rate))\n",
    "    \n",
    "    if frame_rate <=4:\n",
    "        print(\"Frame Rate Of Video is less than 4\")\n",
    "        return\n",
    "    frames = int(frame_rate/fps_rate)\n",
    "    print(\"Extraction of frames at : {} \".format(frames))\n",
    "    \n",
    "    total = 1\n",
    "    sec_frame_count = 1\n",
    "    total_frame_count=0   \n",
    "    second_skip = second_s\n",
    "    while Video.isOpened():\n",
    "        ret,frame = Video.read()\n",
    "        if ret != True:\n",
    "            break\n",
    "            \n",
    "        height,width = frame.shape[:-1]\n",
    "        sec_frame_count+=1\n",
    "        if sec_frame_count>frame_rate:\n",
    "            sec_frame_count = 1  \n",
    "            total += 1\n",
    "            \n",
    "        if int(sec_frame_count%frames) == 0:\n",
    "            if second_skip%3==0:\n",
    "                total_frame_count +=1\n",
    "                cv2.imwrite(target_folder+\"\\\\\"+video_name+\"_{}_{}_{}.jpg\".format(total_frame_count,total,sec_frame_count//frames),frame)      \n",
    "                second_skip += 1\n",
    "            else:\n",
    "                second_skip += 1\n",
    "    print(\"Video {}-->{} Processed \".format(video_name,target_folder),\"\\n\")\n",
    "    Video.release()\n",
    "    cv2.destroyAllWindows()"
   ]
  },
  {
   "cell_type": "markdown",
   "metadata": {},
   "source": [
    "### Setting PreProcessing Function"
   ]
  },
  {
   "cell_type": "code",
   "execution_count": 14,
   "metadata": {},
   "outputs": [],
   "source": [
    "##Don't Change this\n",
    "\n",
    "def preprocess_data(data_info_dict,target_dir,video_files_folder):\n",
    "    index = 0\n",
    "    for key in data_info[index:]:\n",
    "        print(\"Working On Index : {}\".format(index))\n",
    "        video_name = key\n",
    "        index += 1\n",
    "        print(video_name)\n",
    "        saving_dir = target_dir\n",
    "        video_dir = os.path.join(video_files_folder,video_name)\n",
    "        video_extraction(video_dir,video_name,saving_dir)"
   ]
  },
  {
   "cell_type": "code",
   "execution_count": null,
   "metadata": {},
   "outputs": [
    {
     "name": "stdout",
     "output_type": "stream",
     "text": [
      "Working On Index : 0\n",
      "vid2.avi\n",
      "Accessing Video :  C:\\Users\\Lenovo Pc\\Desktop\\Data Annotation\\Week 1\\Nighttime\\videos\\vid2.avi\n",
      "Video dimension : (1280.0,720.0,3)\n",
      "Frame Rate : 22\n",
      "Extraction of frames at : 22 \n"
     ]
    }
   ],
   "source": [
    "##Don't Change this\n",
    "\n",
    "preprocess_data(data_info,target_directory,video_containing_folder)"
   ]
  }
 ],
 "metadata": {
  "kernelspec": {
   "display_name": "Python 3",
   "language": "python",
   "name": "python3"
  },
  "language_info": {
   "codemirror_mode": {
    "name": "ipython",
    "version": 3
   },
   "file_extension": ".py",
   "mimetype": "text/x-python",
   "name": "python",
   "nbconvert_exporter": "python",
   "pygments_lexer": "ipython3",
   "version": "3.8.3"
  }
 },
 "nbformat": 4,
 "nbformat_minor": 4
}
